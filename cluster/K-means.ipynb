{
 "cells": [
  {
   "cell_type": "code",
   "execution_count": 36,
   "metadata": {},
   "outputs": [
    {
     "name": "stderr",
     "output_type": "stream",
     "text": [
      "d:\\programs\\python35\\lib\\site-packages\\skimage\\io\\_plugins\\matplotlib_plugin.py:51: FutureWarning: Conversion of the second argument of issubdtype from `float` to `np.floating` is deprecated. In future, it will be treated as `np.float64 == np.dtype(float).type`.\n",
      "  out_of_range_float = (np.issubdtype(image.dtype, np.float) and\n",
      "d:\\programs\\python35\\lib\\site-packages\\matplotlib\\axes\\_base.py:1400: MatplotlibDeprecationWarning: The 'box-forced' keyword argument is deprecated since 2.2.\n",
      "  \" since 2.2.\", cbook.mplDeprecation)\n"
     ]
    },
    {
     "data": {
      "image/png": "[encoded data removed]",
      "text/plain": [
       "<Figure size 432x288 with 1 Axes>"
      ]
     },
     "metadata": {},
     "output_type": "display_data"
    }
   ],
   "source": [
    "from skimage import io\n",
    "from sklearn.cluster import KMeans\n",
    "import numpy as np\n",
    "\n",
    "image = io.imread('aim.png')\n",
    "io.imshow(image)\n",
    "io.show()"
   ]
  },
  {
   "cell_type": "code",
   "execution_count": 37,
   "metadata": {},
   "outputs": [
    {
     "data": {
      "text/plain": [
       "(32, 32, 4)"
      ]
     },
     "execution_count": 37,
     "metadata": {},
     "output_type": "execute_result"
    }
   ],
   "source": [
    "image.shape"
   ]
  },
  {
   "cell_type": "code",
   "execution_count": 38,
   "metadata": {},
   "outputs": [],
   "source": [
    "rows = image.shape[0]\n",
    "cols = image.shape[1]"
   ]
  },
  {
   "cell_type": "code",
   "execution_count": 39,
   "metadata": {},
   "outputs": [
    {
     "data": {
      "text/plain": [
       "array([[0, 0, 0, 0],\n",
       "       [0, 0, 0, 0],\n",
       "       [0, 0, 0, 0],\n",
       "       ...,\n",
       "       [0, 0, 0, 0],\n",
       "       [0, 0, 0, 0],\n",
       "       [0, 0, 0, 0]], dtype=uint8)"
      ]
     },
     "execution_count": 39,
     "metadata": {},
     "output_type": "execute_result"
    }
   ],
   "source": [
    "image = image.reshape(rows*cols,4)\n",
    "image"
   ]
  },
  {
   "cell_type": "code",
   "execution_count": 40,
   "metadata": {},
   "outputs": [
    {
     "data": {
      "text/plain": [
       "KMeans(algorithm='auto', copy_x=True, init='k-means++', max_iter=300,\n",
       "    n_clusters=128, n_init=10, n_jobs=1, precompute_distances='auto',\n",
       "    random_state=None, tol=0.0001, verbose=0)"
      ]
     },
     "execution_count": 40,
     "metadata": {},
     "output_type": "execute_result"
    }
   ],
   "source": [
    "kmeans = KMeans(128)\n",
    "kmeans.fit(image)"
   ]
  },
  {
   "cell_type": "code",
   "execution_count": 41,
   "metadata": {},
   "outputs": [
    {
     "data": {
      "text/plain": [
       "array([[  0.,   0.,   0.,   0.],\n",
       "       [240., 203.,   8., 226.],\n",
       "       [240., 203.,   8.,  68.],\n",
       "       [240., 203.,   8., 255.],\n",
       "       [240., 203.,   8., 157.],\n",
       "       [239., 207.,   0.,  16.],\n",
       "       [240., 203.,   9., 210.],\n",
       "       [240., 204.,   7.,  35.],\n",
       "       [240., 201.,   8., 100.],\n",
       "       [255., 255.,   0.,   2.],\n",
       "       [242., 204.,   8., 134.],\n",
       "       [240., 203.,   8., 193.],\n",
       "       [227., 198.,   0.,   9.],\n",
       "       [240., 201.,   9.,  85.],\n",
       "       [240., 203.,   8., 236.],\n",
       "       [240., 203.,   8., 247.],\n",
       "       [238., 204.,   6.,  45.],\n",
       "       [240., 203.,   7., 138.],\n",
       "       [240., 202.,   9., 116.],\n",
       "       [241., 198.,  14.,  18.],\n",
       "       [240., 203.,   8., 201.],\n",
       "       [240., 204.,   8., 184.],\n",
       "       [238., 204.,   9.,  60.],\n",
       "       [255., 204.,   0.,   5.],\n",
       "       [240., 203.,   7., 172.],\n",
       "       [239., 203.,   8., 127.],\n",
       "       [232., 209.,   0.,  11.],\n",
       "       [238., 204.,   9.,  30.],\n",
       "       [240., 203.,   8., 250.],\n",
       "       [238., 204.,   0.,  15.],\n",
       "       [240., 203.,   8., 216.],\n",
       "       [238., 203.,   9.,  89.],\n",
       "       [240., 204.,   8., 154.],\n",
       "       [223., 191.,   0.,   8.],\n",
       "       [235., 196.,   0.,  13.],\n",
       "       [240., 203.,   8., 234.],\n",
       "       [241., 205.,   7.,  36.],\n",
       "       [240., 203.,   8., 222.],\n",
       "       [239., 201.,   9.,  81.],\n",
       "       [241., 204.,   8., 164.],\n",
       "       [239., 203.,  10.,  49.],\n",
       "       [241., 203.,   8., 229.],\n",
       "       [239., 201.,   5.,  47.],\n",
       "       [230., 204.,   0.,  10.],\n",
       "       [237., 202.,   7.,  72.],\n",
       "       [239., 203.,   6.,  79.],\n",
       "       [236., 205.,   6.,  41.],\n",
       "       [235., 206.,  10.,  26.],\n",
       "       [240., 202.,   9.,  87.],\n",
       "       [237., 201.,   9.,  57.],\n",
       "       [241., 203.,   8., 196.],\n",
       "       [239., 203.,   8.,  98.],\n",
       "       [240., 203.,   7., 239.],\n",
       "       [241., 204.,   7., 141.],\n",
       "       [242., 203.,   7.,  39.],\n",
       "       [240., 204.,   7.,  70.],\n",
       "       [240., 203.,   9.,  83.],\n",
       "       [240., 204.,   8., 204.],\n",
       "       [241., 204.,   8., 213.],\n",
       "       [240., 203.,   8., 185.],\n",
       "       [241., 204.,   8., 129.],\n",
       "       [240., 204.,   7., 139.],\n",
       "       [239., 202.,   8., 124.],\n",
       "       [240., 203.,   8., 153.],\n",
       "       [240., 203.,   8., 235.],\n",
       "       [240., 204.,   8., 136.],\n",
       "       [239., 202.,   8.,  96.],\n",
       "       [240., 203.,   8., 245.],\n",
       "       [240., 203.,   8., 253.],\n",
       "       [240., 203.,   8., 249.],\n",
       "       [240., 203.,   8., 224.],\n",
       "       [240., 203.,   8., 220.],\n",
       "       [240., 203.,   8., 200.],\n",
       "       [241., 203.,   8., 198.],\n",
       "       [240., 203.,   8., 191.],\n",
       "       [240., 204.,   8., 228.],\n",
       "       [240., 203.,   9., 117.],\n",
       "       [240., 204.,   8., 238.],\n",
       "       [238., 203.,   6.,  44.],\n",
       "       [239., 202.,   5.,  48.],\n",
       "       [240., 203.,   8., 156.],\n",
       "       [240., 203.,   8.,  99.],\n",
       "       [240., 203.,   8., 248.],\n",
       "       [238., 203.,   9.,  88.],\n",
       "       [241., 203.,   8., 230.],\n",
       "       [240., 204.,   9., 209.],\n",
       "       [240., 203.,   8., 251.],\n",
       "       [240., 203.,   8., 202.],\n",
       "       [240., 203.,   8., 215.],\n",
       "       [240., 203.,   8., 254.],\n",
       "       [240., 203.,   8., 192.],\n",
       "       [240., 203.,   8., 186.],\n",
       "       [  0.,   0.,   0.,   0.],\n",
       "       [  0.,   0.,   0.,   0.],\n",
       "       [240., 203.,   8., 255.],\n",
       "       [240., 203.,   8., 255.],\n",
       "       [240., 203.,   8., 255.],\n",
       "       [240., 203.,   8., 255.],\n",
       "       [240., 203.,   8., 255.],\n",
       "       [240., 203.,   8., 255.],\n",
       "       [240., 203.,   8., 255.],\n",
       "       [240., 203.,   8., 255.],\n",
       "       [240., 203.,   8., 255.],\n",
       "       [240., 203.,   8., 255.],\n",
       "       [240., 203.,   8., 222.],\n",
       "       [239., 203.,   8.,  98.],\n",
       "       [240., 204.,   7.,  70.],\n",
       "       [240., 204.,   7., 139.],\n",
       "       [240., 203.,   8., 251.],\n",
       "       [240., 203.,   8., 255.],\n",
       "       [240., 203.,   8., 255.],\n",
       "       [240., 203.,   8., 255.],\n",
       "       [240., 203.,   8., 255.],\n",
       "       [240., 203.,   8., 255.],\n",
       "       [240., 203.,   8., 255.],\n",
       "       [240., 203.,   8., 255.],\n",
       "       [240., 203.,   8., 255.],\n",
       "       [240., 203.,   8., 255.],\n",
       "       [240., 203.,   8., 255.],\n",
       "       [240., 203.,   8., 255.],\n",
       "       [240., 203.,   8., 255.],\n",
       "       [240., 203.,   8., 255.],\n",
       "       [240., 203.,   8., 247.],\n",
       "       [240., 203.,   8., 247.],\n",
       "       [238., 204.,   0.,  15.],\n",
       "       [240., 202.,   9.,  87.],\n",
       "       [240., 203.,   8., 255.],\n",
       "       [240., 203.,   8., 255.]])"
      ]
     },
     "execution_count": 41,
     "metadata": {},
     "output_type": "execute_result"
    }
   ],
   "source": [
    "cluster = np.asarray(kmeans.cluster_centers_)\n",
    "cluster"
   ]
  },
  {
   "cell_type": "code",
   "execution_count": 42,
   "metadata": {},
   "outputs": [
    {
     "name": "stdout",
     "output_type": "stream",
     "text": [
      "(1024,)\n"
     ]
    }
   ],
   "source": [
    "labels = np.asarray(kmeans.labels_)\n",
    "print(labels.shape)\n",
    "labels = labels.reshape(rows,cols)"
   ]
  },
  {
   "cell_type": "code",
   "execution_count": 43,
   "metadata": {},
   "outputs": [
    {
     "name": "stderr",
     "output_type": "stream",
     "text": [
      "d:\\programs\\python35\\lib\\site-packages\\skimage\\io\\_io.py:129: UserWarning: cm_test.jpg is a low contrast image\n",
      "  warn('%s is a low contrast image' % fname)\n",
      "d:\\programs\\python35\\lib\\site-packages\\skimage\\util\\dtype.py:118: UserWarning: Possible sign loss when converting negative image of type int32 to positive image of type uint8.\n",
      "  .format(dtypeobj_in, dtypeobj_out))\n",
      "d:\\programs\\python35\\lib\\site-packages\\skimage\\util\\dtype.py:171: UserWarning: Downcasting int32 to uint8 without scaling because max value 91 fits in uint8\n",
      "  \"value {} fits in {}\".format(a.dtype, dtype, a.max(), dtype))\n"
     ]
    }
   ],
   "source": [
    "io.imsave('cm_test.jpg',labels)"
   ]
  },
  {
   "cell_type": "code",
   "execution_count": null,
   "metadata": {},
   "outputs": [],
   "source": [
    ""
   ]
  }
 ],
 "metadata": {
  "kernelspec": {
   "display_name": "Python 3",
   "language": "python",
   "name": "python3"
  },
  "language_info": {
   "codemirror_mode": {
    "name": "ipython",
    "version": 3.0
   },
   "file_extension": ".py",
   "mimetype": "text/x-python",
   "name": "python",
   "nbconvert_exporter": "python",
   "pygments_lexer": "ipython3",
   "version": "3.5.3"
  }
 },
 "nbformat": 4,
 "nbformat_minor": 0
}